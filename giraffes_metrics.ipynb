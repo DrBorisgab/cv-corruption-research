{
 "cells": [
  {
   "cell_type": "markdown",
   "metadata": {},
   "source": [
    "## 1. Imports"
   ]
  },
  {
   "cell_type": "code",
   "execution_count": 1,
   "metadata": {},
   "outputs": [
    {
     "name": "stderr",
     "output_type": "stream",
     "text": [
      "d:\\diploma\\cv-corruption-research\\venv\\lib\\site-packages\\tqdm\\auto.py:21: TqdmWarning: IProgress not found. Please update jupyter and ipywidgets. See https://ipywidgets.readthedocs.io/en/stable/user_install.html\n",
      "  from .autonotebook import tqdm as notebook_tqdm\n"
     ]
    }
   ],
   "source": [
    "import torch\n",
    "from torchvision.transforms.functional import to_tensor\n",
    "import segmentation_models_pytorch as smp\n",
    "from typing import Final\n",
    "import os\n",
    "from torchvision import transforms as T\n",
    "import rasterio\n",
    "import matplotlib.pyplot as plt\n",
    "import numpy as np\n",
    "import albumentations as A\n",
    "import cv2\n",
    "from albumentations.pytorch import ToTensorV2\n",
    "import rasterio\n",
    "from torchvision.transforms import ToTensor, ToPILImage\n",
    "from segmentation_models_pytorch.utils.metrics import IoU\n",
    "from sklearn.metrics import precision_score, recall_score, f1_score\n",
    "import statistics\n",
    "\n",
    "import matplotlib.pyplot as plt\n",
    "import numpy as np\n",
    "import seaborn as sns\n",
    "import pandas as pd\n",
    "\n",
    "import warnings\n",
    "warnings.filterwarnings('ignore')\n",
    "import math, decimal\n",
    "#! pip install dataframe_image\n",
    "import scipy.stats as stats\n",
    "import dataframe_image as dfi"
   ]
  },
  {
   "cell_type": "code",
   "execution_count": 2,
   "metadata": {},
   "outputs": [
    {
     "data": {
      "text/plain": [
       "True"
      ]
     },
     "execution_count": 2,
     "metadata": {},
     "output_type": "execute_result"
    }
   ],
   "source": [
    "torch.cuda.is_available()"
   ]
  },
  {
   "cell_type": "markdown",
   "metadata": {},
   "source": [
    "## 2. Count metrics (in import_inference_models.ipynb:  0. Count and save metrics)"
   ]
  },
  {
   "cell_type": "markdown",
   "metadata": {},
   "source": [
    "## 3. Load data"
   ]
  },
  {
   "cell_type": "code",
   "execution_count": 3,
   "metadata": {},
   "outputs": [],
   "source": [
    "model_names = ['DeepLabV3+_efficientnet-b4' , 'MAnet_efficientnet-b4', 'Unet_mit-b2', 'Unet++_efficientnet-b5']\n",
    "transf_names = ['adjust_contrast', 'adjust_gamma', 'adjust_hue', 'adjust_saturation', 'Grayscale','webp'\n",
    "                ]\n",
    "\n",
    "# параметры с наихудшими случаями\n",
    "# pars = [{'contrast_factor':[0.2, 0.5, 0.8, 1.2, 1.5, 1.8, 2]}, {'gamma':[0.2, 0.5, 0.8, 1.2, 1.5, 1.8, 1.9, 2.3]}, {'hue_factor':[-0.5, -0.4, -0.2, -0.1, 0, 0.1, 0.2, 0.4, 0.5]}, \n",
    "#         {'saturation_factor':[0, 0.3, 0.5, 0.8, 1.3, 1.5, 1.8, 2]}, {'out_channels':[3]}, {'webp': [1]}]\n",
    "\n",
    "# приближенные к реаьности\n",
    "pars = [{'contrast_factor':[0.5, 0.8, 1.2, 1.5]}, {'gamma':[ 0.5, 0.8, 1.2, 1.5, 1.8, 1.9, 2.3]}, {'hue_factor':[-0.5, -0.4, -0.2, -0.1, 0, 0.1, 0.2, 0.4, 0.5]}, \n",
    "        {'saturation_factor':[0.5, 0.8, 1.3, 1.5]}, {'out_channels':[3]}, {'webp': [1]}]\n",
    "\n",
    "metric_name = 'f1'"
   ]
  },
  {
   "cell_type": "markdown",
   "metadata": {},
   "source": [
    "## 4. Count metrics"
   ]
  },
  {
   "cell_type": "markdown",
   "metadata": {},
   "source": [
    "### 4.1 Distortion Error using the original image\n",
    "\n",
    "$$\n",
    "\\displaystyle\n",
    "mDErr_{d}^M\n",
    "=\n",
    "\\left( \\sum_{d=1}^n E_{d,p}^M \\right) / \\left( \\sum_{k=1}^i E_{orig, k}^M \\right)\n",
    "$$\n",
    "\n",
    "n - number of distortions  \n",
    "i - number of images  \n",
    "M - model  \n",
    "d - distortion   \n",
    "p - parametr of distortion"
   ]
  },
  {
   "cell_type": "code",
   "execution_count": 23,
   "metadata": {},
   "outputs": [
    {
     "data": {
      "text/html": [
       "<div>\n",
       "<style scoped>\n",
       "    .dataframe tbody tr th:only-of-type {\n",
       "        vertical-align: middle;\n",
       "    }\n",
       "\n",
       "    .dataframe tbody tr th {\n",
       "        vertical-align: top;\n",
       "    }\n",
       "\n",
       "    .dataframe thead th {\n",
       "        text-align: right;\n",
       "    }\n",
       "</style>\n",
       "<table border=\"1\" class=\"dataframe\">\n",
       "  <thead>\n",
       "    <tr style=\"text-align: right;\">\n",
       "      <th></th>\n",
       "      <th>DeepLabV3+_efficientnet-b4</th>\n",
       "      <th>MAnet_efficientnet-b4</th>\n",
       "      <th>Unet_mit-b2</th>\n",
       "      <th>Unet++_efficientnet-b5</th>\n",
       "    </tr>\n",
       "  </thead>\n",
       "  <tbody>\n",
       "    <tr>\n",
       "      <th>0</th>\n",
       "      <td>0.95969</td>\n",
       "      <td>0.960937</td>\n",
       "      <td>0.951551</td>\n",
       "      <td>0.931217</td>\n",
       "    </tr>\n",
       "  </tbody>\n",
       "</table>\n",
       "</div>"
      ],
      "text/plain": [
       "   DeepLabV3+_efficientnet-b4  MAnet_efficientnet-b4  Unet_mit-b2   \n",
       "0                     0.95969               0.960937     0.951551  \\\n",
       "\n",
       "   Unet++_efficientnet-b5  \n",
       "0                0.931217  "
      ]
     },
     "execution_count": 23,
     "metadata": {},
     "output_type": "execute_result"
    }
   ],
   "source": [
    "res_mDErr = []\n",
    "for model_name in model_names: \n",
    "    \n",
    "    orig = np.load(f'metrics_old/{model_name}_origin_{metric_name}.npy')\n",
    "    Err_orig = np.sum(orig)\n",
    "    sum_DErr = []\n",
    "    for transf_name, par in zip(transf_names, pars):\n",
    "        par_name, par_val_list = next(iter(par.items()))\n",
    "        DErr = []\n",
    "        for par_i in par_val_list: \n",
    "            Err = []\n",
    "            distortion = np.load(f'metrics_old/{model_name}_{transf_name}_{par_i}_' + metric_name + '.npy')\n",
    "            Err = list(distortion)\n",
    "            DErr.append(np.sum(Err) / Err_orig)      \n",
    "\n",
    "        sum_DErr += DErr\n",
    "    \n",
    "    mDErr =np.sum(sum_DErr) / len(sum_DErr)\n",
    "\n",
    "    res_mDErr.append(mDErr)\n",
    "\n",
    "df = pd.DataFrame(data = np.resize(res_mDErr, (1,4)) , columns=model_names)\n",
    "df"
   ]
  },
  {
   "cell_type": "code",
   "execution_count": 33,
   "metadata": {},
   "outputs": [
    {
     "data": {
      "text/html": [
       "<div>\n",
       "<style scoped>\n",
       "    .dataframe tbody tr th:only-of-type {\n",
       "        vertical-align: middle;\n",
       "    }\n",
       "\n",
       "    .dataframe tbody tr th {\n",
       "        vertical-align: top;\n",
       "    }\n",
       "\n",
       "    .dataframe thead th {\n",
       "        text-align: right;\n",
       "    }\n",
       "</style>\n",
       "<table border=\"1\" class=\"dataframe\">\n",
       "  <thead>\n",
       "    <tr style=\"text-align: right;\">\n",
       "      <th></th>\n",
       "      <th>DeepLabV3+_efficientnet-b4</th>\n",
       "      <th>MAnet_efficientnet-b4</th>\n",
       "      <th>Unet_mit-b2</th>\n",
       "      <th>Unet++_efficientnet-b5</th>\n",
       "    </tr>\n",
       "  </thead>\n",
       "  <tbody>\n",
       "    <tr>\n",
       "      <th>adjust_contrast</th>\n",
       "      <td>0.964850</td>\n",
       "      <td>0.961153</td>\n",
       "      <td>0.953487</td>\n",
       "      <td>0.959690</td>\n",
       "    </tr>\n",
       "    <tr>\n",
       "      <th>adjust_gamma</th>\n",
       "      <td>0.981524</td>\n",
       "      <td>0.960841</td>\n",
       "      <td>0.952058</td>\n",
       "      <td>0.960937</td>\n",
       "    </tr>\n",
       "    <tr>\n",
       "      <th>adjust_hue</th>\n",
       "      <td>0.971689</td>\n",
       "      <td>0.946424</td>\n",
       "      <td>0.944907</td>\n",
       "      <td>0.951551</td>\n",
       "    </tr>\n",
       "    <tr>\n",
       "      <th>adjust_saturation</th>\n",
       "      <td>0.952301</td>\n",
       "      <td>0.913616</td>\n",
       "      <td>0.915250</td>\n",
       "      <td>0.931217</td>\n",
       "    </tr>\n",
       "  </tbody>\n",
       "</table>\n",
       "</div>"
      ],
      "text/plain": [
       "                   DeepLabV3+_efficientnet-b4  MAnet_efficientnet-b4   \n",
       "adjust_contrast                      0.964850               0.961153  \\\n",
       "adjust_gamma                         0.981524               0.960841   \n",
       "adjust_hue                           0.971689               0.946424   \n",
       "adjust_saturation                    0.952301               0.913616   \n",
       "\n",
       "                   Unet_mit-b2  Unet++_efficientnet-b5  \n",
       "adjust_contrast       0.953487                0.959690  \n",
       "adjust_gamma          0.952058                0.960937  \n",
       "adjust_hue            0.944907                0.951551  \n",
       "adjust_saturation     0.915250                0.931217  "
      ]
     },
     "execution_count": 33,
     "metadata": {},
     "output_type": "execute_result"
    }
   ],
   "source": [
    "res_mDErr = []\n",
    "for model_name in model_names: \n",
    "    \n",
    "    orig = np.load(f'metrics_old/{model_name}_origin_{metric_name}.npy')\n",
    "    Err_orig = np.sum(orig)\n",
    "    sum_DErr = []\n",
    "    for transf_name, par in zip(transf_names, pars):\n",
    "        par_name, par_val_list = next(iter(par.items()))\n",
    "        DErr = []\n",
    "        for par_i in par_val_list: \n",
    "            Err = []\n",
    "            distortion = np.load(f'metrics_old/{model_name}_{transf_name}_{par_i}_' + metric_name + '.npy')\n",
    "            Err = list(distortion)\n",
    "            DErr.append(np.sum(Err) / Err_orig)      \n",
    "\n",
    "        sum_DErr += DErr\n",
    "    \n",
    "        mDErr = np.sum(sum_DErr) / len(sum_DErr)\n",
    "\n",
    "        res_mDErr.append(mDErr)\n",
    "\n",
    "df = pd.DataFrame(data = np.resize(res_mDErr, (4,4)) , columns=model_names, index=transf_names)\n",
    "df"
   ]
  },
  {
   "cell_type": "markdown",
   "metadata": {},
   "source": [
    "### 4.2 Distortion Error without  using the original image (along distortion axis)\n",
    "\n",
    "$$\n",
    "\\displaystyle\n",
    "DErr_{d,p}^M\n",
    "=\n",
    "\\frac{ \\sum_{k=1}^i E_{k,d,p}^M }{n} \n",
    "$$\n",
    "\n",
    "$$\n",
    "\\displaystyle\n",
    "sDErr^M\n",
    "=\n",
    "\\sqrt{ \\frac{ \\sum_{k=1}^d \\sum_{l=1}^p (DErr_{k,l}^M - \\overline{DErr_{k,l}^M} )}{ n - 1 } } / \\frac{ \\sum_{k=1}^d \\sum_{l=1}^p DErr_{k,l}^M }{n} \n",
    "$$\n",
    "\n",
    "or\n",
    "\n",
    "$$  \n",
    "sDErr^M = std_{d}(mean_{p,i}(DErr)) / (mean_{d}((mean_{p,i}(DErr))))\n",
    "$$  \n",
    "\n",
    "\n",
    "n - number of distortions  \n",
    "i - number of images  \n",
    "M - model  \n",
    "d - distortion   \n",
    "p - parametr of distortion"
   ]
  },
  {
   "cell_type": "code",
   "execution_count": 34,
   "metadata": {},
   "outputs": [
    {
     "data": {
      "text/html": [
       "<div>\n",
       "<style scoped>\n",
       "    .dataframe tbody tr th:only-of-type {\n",
       "        vertical-align: middle;\n",
       "    }\n",
       "\n",
       "    .dataframe tbody tr th {\n",
       "        vertical-align: top;\n",
       "    }\n",
       "\n",
       "    .dataframe thead th {\n",
       "        text-align: right;\n",
       "    }\n",
       "</style>\n",
       "<table border=\"1\" class=\"dataframe\">\n",
       "  <thead>\n",
       "    <tr style=\"text-align: right;\">\n",
       "      <th></th>\n",
       "      <th>DeepLabV3+_efficientnet-b4</th>\n",
       "      <th>MAnet_efficientnet-b4</th>\n",
       "      <th>Unet_mit-b2</th>\n",
       "      <th>Unet++_efficientnet-b5</th>\n",
       "    </tr>\n",
       "  </thead>\n",
       "  <tbody>\n",
       "    <tr>\n",
       "      <th>0</th>\n",
       "      <td>0.051355</td>\n",
       "      <td>0.055596</td>\n",
       "      <td>0.056781</td>\n",
       "      <td>0.079539</td>\n",
       "    </tr>\n",
       "  </tbody>\n",
       "</table>\n",
       "</div>"
      ],
      "text/plain": [
       "   DeepLabV3+_efficientnet-b4  MAnet_efficientnet-b4  Unet_mit-b2   \n",
       "0                    0.051355               0.055596     0.056781  \\\n",
       "\n",
       "   Unet++_efficientnet-b5  \n",
       "0                0.079539  "
      ]
     },
     "execution_count": 34,
     "metadata": {},
     "output_type": "execute_result"
    }
   ],
   "source": [
    "res_sDErr = []\n",
    "for model_name in model_names: \n",
    "\n",
    "    sum_DErr = []\n",
    "    for transf_name, par in zip(transf_names, pars):\n",
    "        par_name, par_val_list = next(iter(par.items()))\n",
    "        DErr = []\n",
    "        for par_i in par_val_list: \n",
    "            Err = []\n",
    "            distortion = np.load(f'metrics_old/{model_name}_{transf_name}_{par_i}_' + metric_name + '.npy')\n",
    "            Err = list(distortion)\n",
    "            #DErr.append(statistics.harmonic_mean([x for x in Err if x != 0]))                  \n",
    "            #DErr.append((len(Err) + 0.00001) / np.sum([1.0/x for x in Err if x != 0]))\n",
    "            DErr.append(np.mean(Err)) \n",
    "\n",
    "        sum_DErr += DErr\n",
    "    \n",
    "    sDErr = np.std(sum_DErr) / np.mean(sum_DErr)\n",
    "\n",
    "    res_sDErr.append(sDErr)\n",
    "\n",
    "df = pd.DataFrame(data = np.resize(res_sDErr, (1,4)) , columns=model_names)\n",
    "df\n",
    "\n",
    "# sDErr =  [0.016884072867085872, 0.06427385943356195, 0.10539996544466741, 0.009147556316510517]   # harmonic_mean\n",
    "# sDErr =  [0.02088167970346063, 0.02902086624954602, 0.03522840984359849, 0.03222201925334532]     # mean\n"
   ]
  },
  {
   "cell_type": "markdown",
   "metadata": {},
   "source": [
    "### 4.3 Distortion Error without using the original image (along image axis)\n",
    "\n",
    "\n",
    "$$\n",
    "\\displaystyle\n",
    "imgDErr_{i}^M\n",
    "=\n",
    "\\sqrt{ \\frac{ \\sum_{k=1}^d \\sum_{l=1}^p (DErr_{k,l}^M - \\overline{DErr_{k,l}^M} )}{ n - 1 } } /\n",
    "\\frac{ \\sum_{k=1}^d \\sum_{l=1}^p E_{k,l}^M }{n\\cdot p} \n",
    "$$  \n",
    "\n",
    "$$  \n",
    "\\displaystyle\n",
    "sDErr^M\n",
    "= \\frac{ \\sum_{k=1}^i imgDErr_{k}^M }{i} \n",
    "$$  \n",
    "\n",
    "or\n",
    "\n",
    "$$  \n",
    "sDErr^M = mean_i( std(DErr_{d,p}) / mean_{d,p}(DErr) )\n",
    "$$  \n",
    "\n",
    "n - number of distortions  \n",
    "i - number of images  \n",
    "M - model  \n",
    "d - distortion   \n",
    "p - parametr of distortion"
   ]
  },
  {
   "cell_type": "code",
   "execution_count": 32,
   "metadata": {},
   "outputs": [
    {
     "data": {
      "text/html": [
       "<div>\n",
       "<style scoped>\n",
       "    .dataframe tbody tr th:only-of-type {\n",
       "        vertical-align: middle;\n",
       "    }\n",
       "\n",
       "    .dataframe tbody tr th {\n",
       "        vertical-align: top;\n",
       "    }\n",
       "\n",
       "    .dataframe thead th {\n",
       "        text-align: right;\n",
       "    }\n",
       "</style>\n",
       "<table border=\"1\" class=\"dataframe\">\n",
       "  <thead>\n",
       "    <tr style=\"text-align: right;\">\n",
       "      <th></th>\n",
       "      <th>DeepLabV3+_efficientnet-b4</th>\n",
       "      <th>MAnet_efficientnet-b4</th>\n",
       "      <th>Unet_mit-b2</th>\n",
       "      <th>Unet++_efficientnet-b5</th>\n",
       "    </tr>\n",
       "  </thead>\n",
       "  <tbody>\n",
       "    <tr>\n",
       "      <th>0</th>\n",
       "      <td>0.292669</td>\n",
       "      <td>0.243345</td>\n",
       "      <td>0.159796</td>\n",
       "      <td>0.338095</td>\n",
       "    </tr>\n",
       "  </tbody>\n",
       "</table>\n",
       "</div>"
      ],
      "text/plain": [
       "   DeepLabV3+_efficientnet-b4  MAnet_efficientnet-b4  Unet_mit-b2   \n",
       "0                    0.292669               0.243345     0.159796  \\\n",
       "\n",
       "   Unet++_efficientnet-b5  \n",
       "0                0.338095  "
      ]
     },
     "execution_count": 32,
     "metadata": {},
     "output_type": "execute_result"
    }
   ],
   "source": [
    "model_names = ['DeepLabV3+_efficientnet-b4' , 'MAnet_efficientnet-b4', 'Unet_mit-b2', 'Unet++_efficientnet-b5']\n",
    "transf_names = ['adjust_contrast', 'adjust_gamma', 'adjust_hue', 'adjust_saturation']\n",
    "\n",
    "pars = [{'contrast_factor':[0.5, 0.8, 1.2, 1.5]}, {'gamma':[ 0.5, 0.8, 1.2, 1.5, 1.8, 1.9, 2.3]}, {'hue_factor':[-0.5, -0.4, -0.2, -0.1, 0, 0.1, 0.2, 0.4, 0.5]}, \n",
    "        {'saturation_factor':[0.5, 0.8, 1.3, 1.5]}]\n",
    "\n",
    "metric_name = 'f1'\n",
    "\n",
    "l = len(np.load(f'metrics_old/DeepLabV3+_efficientnet-b4_adjust_saturation_0.5_IoU.npy'))\n",
    "epsilon = 1e-4\n",
    "\n",
    "res_sDErr = []\n",
    "for model_name in model_names: \n",
    "    model_DErr = []\n",
    "    for img in range(l):\n",
    "        img_DErr = []\n",
    "        for transf_name, par in zip(transf_names, pars):\n",
    "            par_name, par_val_list = next(iter(par.items()))\n",
    "            DErr = []\n",
    "            for par_i in par_val_list: \n",
    "                distortion = np.load(f'metrics_old/{model_name}_{transf_name}_{par_i}_' + metric_name + '.npy')\n",
    "                Err = distortion[img]\n",
    "                DErr.append(Err + epsilon) \n",
    "\n",
    "            std_DErr = np.std(DErr)\n",
    "            mean_DErr = np.mean(DErr)\n",
    "            \n",
    "            img_DErr.append(std_DErr/mean_DErr)\n",
    "    \n",
    "        model_DErr.append(np.mean(img_DErr))\n",
    "\n",
    "    res_sDErr.append(np.mean(model_DErr))\n",
    "\n",
    "df = pd.DataFrame(data = np.resize(res_sDErr, (1,4)) , columns=model_names)\n",
    "df\n"
   ]
  },
  {
   "cell_type": "code",
   "execution_count": 30,
   "metadata": {},
   "outputs": [
    {
     "data": {
      "text/plain": [
       "array([0.7918449 , 0.83149284, 0.73236636, 0.75654727, 0.81085532,\n",
       "       0.81248509, 0.77185737, 0.77239047, 0.8066588 , 0.82730661,\n",
       "       0.83760933, 0.79306871, 0.80727858, 0.85131953, 0.84390754,\n",
       "       0.81784684, 0.259423  , 0.31482855, 0.13094362, 0.24785038,\n",
       "       0.74973926, 0.12483395, 0.5483827 , 0.67795305, 0.29867486,\n",
       "       0.69517013, 0.60934433, 0.77085372, 0.78781862, 0.76084147,\n",
       "       0.76964574, 0.768241  , 0.74065753, 0.76581086, 0.        ,\n",
       "       0.71603078, 0.76418001, 0.81599636, 0.82552889, 0.78907621,\n",
       "       0.62916156, 0.85290674, 0.81711626, 0.81375667, 0.        ,\n",
       "       0.62174512, 0.55028091, 0.2165853 , 0.57558242, 0.35046684,\n",
       "       0.365762  , 0.01052081, 0.05043892, 0.54176059, 0.62286024,\n",
       "       0.72406209, 0.56066867, 0.52848143, 0.22989988, 0.67762994,\n",
       "       0.58644099, 0.11706311, 0.49321783, 0.        , 0.00438766,\n",
       "       0.10184049, 0.        , 0.00370361, 0.        , 0.00938783,\n",
       "       0.00384621, 0.61481112, 0.        , 0.        , 0.        ,\n",
       "       0.        , 0.1113006 , 0.11595778, 0.2838654 , 0.57455372,\n",
       "       0.00220368, 0.68930382, 0.72049582, 0.86560343, 0.29787504,\n",
       "       0.46550617, 0.73549122, 0.08089695, 0.11148216, 0.02687074,\n",
       "       0.06687813, 0.02569113, 0.08990186, 0.14524753, 0.02002778,\n",
       "       0.06638967, 0.00249897, 0.0531393 , 0.03157151, 0.18155227,\n",
       "       0.01222133, 0.00166722, 0.22855014, 0.20560871, 0.03368316,\n",
       "       0.60782504, 0.36844969, 0.59228901, 0.62463052, 0.13876479,\n",
       "       0.75246978, 0.51674287, 0.38606169, 0.78403513])"
      ]
     },
     "execution_count": 30,
     "metadata": {},
     "output_type": "execute_result"
    }
   ],
   "source": [
    "np.load(f'metrics_old/Unet++_efficientnet-b5_adjust_saturation_1.5_f1.npy')"
   ]
  }
 ],
 "metadata": {
  "kernelspec": {
   "display_name": "Python 3",
   "language": "python",
   "name": "python3"
  },
  "language_info": {
   "codemirror_mode": {
    "name": "ipython",
    "version": 3
   },
   "file_extension": ".py",
   "mimetype": "text/x-python",
   "name": "python",
   "nbconvert_exporter": "python",
   "pygments_lexer": "ipython3",
   "version": "3.9.12"
  },
  "orig_nbformat": 4
 },
 "nbformat": 4,
 "nbformat_minor": 2
}
