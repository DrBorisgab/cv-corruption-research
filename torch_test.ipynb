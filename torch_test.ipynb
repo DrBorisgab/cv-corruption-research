{
 "cells": [
  {
   "cell_type": "code",
   "execution_count": 1,
   "metadata": {},
   "outputs": [
    {
     "data": {
      "text/plain": [
       "True"
      ]
     },
     "execution_count": 1,
     "metadata": {},
     "output_type": "execute_result"
    }
   ],
   "source": [
    "import torch\n",
    "torch.cuda.is_available()"
   ]
  },
  {
   "cell_type": "code",
   "execution_count": 2,
   "metadata": {},
   "outputs": [
    {
     "name": "stdout",
     "output_type": "stream",
     "text": [
      "tensor([[0.2147, 0.6487, 0.9622],\n",
      "        [0.2612, 0.9130, 0.9553],\n",
      "        [0.7068, 0.5685, 0.4310],\n",
      "        [0.3862, 0.0322, 0.5392],\n",
      "        [0.9313, 0.7925, 0.9876],\n",
      "        [0.9427, 0.3976, 0.5311],\n",
      "        [0.6282, 0.6586, 0.7772]], device='cuda:0')\n"
     ]
    }
   ],
   "source": [
    "x = torch.rand(7, 3)\n",
    "x = x.to('cuda')\n",
    "print(x)"
   ]
  },
  {
   "cell_type": "code",
   "execution_count": null,
   "metadata": {},
   "outputs": [],
   "source": []
  }
 ],
 "metadata": {
  "kernelspec": {
   "display_name": "Python 3",
   "language": "python",
   "name": "python3"
  },
  "language_info": {
   "codemirror_mode": {
    "name": "ipython",
    "version": 3
   },
   "file_extension": ".py",
   "mimetype": "text/x-python",
   "name": "python",
   "nbconvert_exporter": "python",
   "pygments_lexer": "ipython3",
   "version": "3.11.3"
  },
  "orig_nbformat": 4
 },
 "nbformat": 4,
 "nbformat_minor": 2
}
