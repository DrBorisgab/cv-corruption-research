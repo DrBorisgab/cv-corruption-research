{
 "cells": [
  {
   "cell_type": "code",
   "execution_count": null,
   "metadata": {},
   "outputs": [],
   "source": [
    "! pip install aeronet\n",
    "\n",
    "import rasterio\n",
    "from aeronet.dataset import Band\n",
    "from aeronet.converters.split import split\n",
    "import numpy as np\n",
    "import argparse \n",
    "import rasterio\n",
    "\n",
    "from aeronet.dataset import BandCollection, FeatureCollection, rasterize\n",
    "from aeronet.converters.split import split"
   ]
  },
  {
   "attachments": {},
   "cell_type": "markdown",
   "metadata": {},
   "source": [
    "## Rasterize vector images"
   ]
  },
  {
   "cell_type": "code",
   "execution_count": 15,
   "metadata": {},
   "outputs": [],
   "source": [
    "for i in range(15):\n",
    "    #  aeronet.dataset.transform. <rasterize/polygonize>\n",
    "    num = i+1\n",
    "    IMAGE_FILE = 'true_images/'+str(num)+'.tif'\n",
    "    MASK_FILE = 'true_vector_masks/'+str(num)+'.geojson'\n",
    "    OUT_PATH = 'true_rastr_masks2/'\n",
    "\n",
    "    channels = ['RED'+str(num), 'GRN'+str(num), 'BLU'+str(num)]\n",
    "    label = str(num)\n",
    "\n",
    "    # split the multi-channel image to the separate files for each band\n",
    "    # it saves the files to the filesystem and returns the BandCollection handle to them\n",
    "    bc = split(IMAGE_FILE, OUT_PATH, channels)\n",
    "\n",
    "    # Read the vector data\n",
    "    fc = FeatureCollection.read(MASK_FILE)\n",
    "\n",
    "    # The files can have different coordinate systems, so we will need to reproject vector data\n",
    "    # crs is coordinate system feature for a georeferenced object\n",
    "    fc = fc.reproject(dst_crs=bc.crs)\n",
    "\n",
    "    # Now we can rasterize the map data, the mask will be saved in the same folder\n",
    "    # the result is a BandSample of the size out_shape, with the given georeference and name\n",
    "\n",
    "    mask_sample = rasterize(feature_collection=fc,\n",
    "            transform=bc.transform,\n",
    "            out_shape=bc[0].shape,\n",
    "            name=label)\n",
    "\n",
    "    # Now save it, the path is a folder to save, and the filename is derived from the BandSample name\n",
    "    mask_sample.save(OUT_PATH)"
   ]
  },
  {
   "attachments": {},
   "cell_type": "markdown",
   "metadata": {},
   "source": [
    "## Cut image into 4 parts"
   ]
  },
  {
   "cell_type": "code",
   "execution_count": null,
   "metadata": {},
   "outputs": [],
   "source": [
    "#1\n",
    "image = rasterio.open(\"true_images/1.tif\")\n",
    "sample = image.read().swapaxes(0,2).swapaxes(0,1)\n",
    "\n",
    "transform = T.Compose([\n",
    "T.TenCrop(size), # this is a tuple of PIL Images\n",
    "T.Lambda(lambda crops: torch.stack([PILToTensor()(crop) for crop in crops]))\n",
    "])\n",
    "input, target = batch # input is a 5d tensor, target is 2d\n",
    "bs, ncrops, c, h, w = input.size()\n",
    "result = model(input.view(-1, c, h, w)) # fuse batch size and ncrops\n",
    "result_avg = result.view(bs, ncrops, -1).mean(1) # avg over crops"
   ]
  },
  {
   "cell_type": "code",
   "execution_count": null,
   "metadata": {},
   "outputs": [],
   "source": [
    "\n",
    "#2\n",
    "image = rasterio.open(\"true_images/1.tif\")\n",
    "sample = image.read().swapaxes(0,2).swapaxes(0,1)\n",
    "\n",
    "M = sample.shape[0]//2\n",
    "N = sample.shape[1]//2\n",
    "tiles = [sample[x:x+M,y:y+N] for x in range(0,sample.shape[0],M) for y in range(0,sample.shape[1],N)]\n",
    "\n",
    "\n",
    "print(type(sample))\n",
    "con_lis = tf.convert_to_tensor(sample)\n",
    "print(\"Convert list to tensor:\",con_lis)\n"
   ]
  },
  {
   "attachments": {},
   "cell_type": "markdown",
   "metadata": {},
   "source": [
    "\n",
    "## Convert to 8-bit image"
   ]
  },
  {
   "cell_type": "code",
   "execution_count": null,
   "metadata": {},
   "outputs": [],
   "source": [
    "# Normalization parameter; change to 2 to make output more contrast\n",
    "WIDTH = 3\n",
    "\n",
    "\n",
    "def main(ms_file, out_file, r=1, g=2, b=3):\n",
    "    print(\"Running image preprocessing script\")\n",
    "    with rasterio.open(ms_file) as src:\n",
    "        profile = src.profile\n",
    "        red = src.read(r)\n",
    "        grn = src.read(g)\n",
    "        blu = src.read(b)\n",
    "\n",
    "    profile.update(count=3, dtype='uint8')\n",
    "    \n",
    "    # Nodata should be transfered to uint8 range to match the image dtype\n",
    "    nodata_value = profile.get('nodata')\n",
    "    if nodata_value is not None:\n",
    "        if 0 <= nodata_value <= 255:\n",
    "            profile.update(nodata=int(nodata_value))\n",
    "        else:\n",
    "            profile.update(nodata=0)\n",
    "\n",
    "    channels_8bit = []\n",
    "    for channel in [red, grn, blu]:\n",
    "        mean, std, min_val, max_val = np.mean(channel), np.std(channel), np.min(channel), np.max(channel)\n",
    "        m = max(min_val, mean - WIDTH*std)\n",
    "        M = min(max_val, mean + WIDTH*std)\n",
    "        ch_8bit = np.floor_divide(\n",
    "            np.multiply((channel - m), 255, dtype='float32'),\n",
    "            (M-m)\n",
    "        )\n",
    "        # We clip it from 1 to leave 0 value for nodata\n",
    "        ch_8bit = np.clip(np.around(ch_8bit, 0), 1, 255).astype('uint8')\n",
    "        channels_8bit.append(ch_8bit)\n",
    "\n",
    "    with rasterio.open(out_file, 'w', **profile) as dst:\n",
    "        dst.write(channels_8bit[0], 1)\n",
    "        dst.write(channels_8bit[1], 2)\n",
    "        dst.write(channels_8bit[2], 3)\n",
    "    print('Done')"
   ]
  },
  {
   "cell_type": "code",
   "execution_count": null,
   "metadata": {},
   "outputs": [],
   "source": [
    "x = np.arange(1,7)\n",
    "\n",
    "for i in x:\n",
    "    main('images_16_bit/' + str(i) + '.tif', 'images/' + str(i) + '.tif')"
   ]
  }
 ],
 "metadata": {
  "kernelspec": {
   "display_name": "Python 3",
   "language": "python",
   "name": "python3"
  },
  "language_info": {
   "codemirror_mode": {
    "name": "ipython",
    "version": 3
   },
   "file_extension": ".py",
   "mimetype": "text/x-python",
   "name": "python",
   "nbconvert_exporter": "python",
   "pygments_lexer": "ipython3",
   "version": "3.9.12"
  },
  "orig_nbformat": 4
 },
 "nbformat": 4,
 "nbformat_minor": 2
}
