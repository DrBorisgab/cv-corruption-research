{
 "cells": [
  {
   "cell_type": "code",
   "execution_count": 1,
   "metadata": {},
   "outputs": [],
   "source": [
    "import rasterio\n",
    "from aeronet.dataset import Band\n",
    "from aeronet.converters.split import split\n",
    "import numpy as np\n",
    "import argparse "
   ]
  },
  {
   "cell_type": "code",
   "execution_count": null,
   "metadata": {},
   "outputs": [],
   "source": [
    "# Normalization parameter; change to 2 to make output more contrast\n",
    "WIDTH = 3\n",
    "\n",
    "\n",
    "def main(ms_file, out_file, r=1, g=2, b=3):\n",
    "    print(\"Running image preprocessing script\")\n",
    "    with rasterio.open(ms_file) as src:\n",
    "        profile = src.profile\n",
    "        red = src.read(r)\n",
    "        grn = src.read(g)\n",
    "        blu = src.read(b)\n",
    "\n",
    "    profile.update(count=3, dtype='uint8')\n",
    "    \n",
    "    # Nodata should be transfered to uint8 range to match the image dtype\n",
    "    nodata_value = profile.get('nodata')\n",
    "    if nodata_value is not None:\n",
    "        if 0 <= nodata_value <= 255:\n",
    "            profile.update(nodata=int(nodata_value))\n",
    "        else:\n",
    "            profile.update(nodata=0)\n",
    "\n",
    "    channels_8bit = []\n",
    "    for channel in [red, grn, blu]:\n",
    "        mean, std, min_val, max_val = np.mean(channel), np.std(channel), np.min(channel), np.max(channel)\n",
    "        m = max(min_val, mean - WIDTH*std)\n",
    "        M = min(max_val, mean + WIDTH*std)\n",
    "        ch_8bit = np.floor_divide(\n",
    "            np.multiply((channel - m), 255, dtype='float32'),\n",
    "            (M-m)\n",
    "        )\n",
    "        # We clip it from 1 to leave 0 value for nodata\n",
    "        ch_8bit = np.clip(np.around(ch_8bit, 0), 1, 255).astype('uint8')\n",
    "        channels_8bit.append(ch_8bit)\n",
    "\n",
    "    with rasterio.open(out_file, 'w', **profile) as dst:\n",
    "        dst.write(channels_8bit[0], 1)\n",
    "        dst.write(channels_8bit[1], 2)\n",
    "        dst.write(channels_8bit[2], 3)\n",
    "    print('Done')"
   ]
  },
  {
   "cell_type": "code",
   "execution_count": null,
   "metadata": {},
   "outputs": [],
   "source": [
    "x = np.arange(1,7)\n",
    "\n",
    "for i in x:\n",
    "    main('images_16_bit/' + str(i) + '.tif', 'images/' + str(i) + '.tif')"
   ]
  }
 ],
 "metadata": {
  "kernelspec": {
   "display_name": "Python 3",
   "language": "python",
   "name": "python3"
  },
  "language_info": {
   "codemirror_mode": {
    "name": "ipython",
    "version": 3
   },
   "file_extension": ".py",
   "mimetype": "text/x-python",
   "name": "python",
   "nbconvert_exporter": "python",
   "pygments_lexer": "ipython3",
   "version": "3.11.3"
  },
  "orig_nbformat": 4
 },
 "nbformat": 4,
 "nbformat_minor": 2
}
