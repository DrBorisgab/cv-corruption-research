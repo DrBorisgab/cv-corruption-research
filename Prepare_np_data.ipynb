{
 "cells": [
  {
   "cell_type": "code",
   "execution_count": 2,
   "id": "2c395905-583f-4fdf-b4e2-5237b251d8a5",
   "metadata": {},
   "outputs": [
    {
     "name": "stderr",
     "output_type": "stream",
     "text": [
      "d:\\diploma\\cv-corruption-research\\venv\\lib\\site-packages\\tqdm\\auto.py:22: TqdmWarning: IProgress not found. Please update jupyter and ipywidgets. See https://ipywidgets.readthedocs.io/en/stable/user_install.html\n",
      "  from .autonotebook import tqdm as notebook_tqdm\n"
     ]
    }
   ],
   "source": [
    "import rasterio\n",
    "from aeronet_vector import FeatureCollection, Feature\n",
    "import shapely\n",
    "import numpy as np\n",
    "from matplotlib import pyplot as plt\n",
    "import os\n",
    "from dlutils.data import markup_generation, fcutils, angleutils, heightutils, markup_generation\n",
    "from dlutils.utils import visualization, npfile_utils\n",
    "import cv2 \n",
    "import matplotlib.pyplot as plt\n",
    "from torchvision.utils import save_image\n",
    "from torchvision.transforms import ToTensor"
   ]
  },
  {
   "cell_type": "code",
   "execution_count": 13,
   "id": "038af4b1",
   "metadata": {},
   "outputs": [
    {
     "data": {
      "text/plain": [
       "[]"
      ]
     },
     "execution_count": 13,
     "metadata": {},
     "output_type": "execute_result"
    }
   ],
   "source": [
    "folders = list(filter(lambda x: '.' not in x, os.listdir('samples')))\n",
    "lost_folders = []\n",
    "for folder in folders:\n",
    "    files =  os.listdir('samples/'+folder)\n",
    "    if 'rgb.tif' not in files: \n",
    "        print(folder)\n",
    "        lost_folders.append(folder)\n",
    "        #print(files)\n",
    "lost_folders"
   ]
  },
  {
   "cell_type": "markdown",
   "id": "06fdabd7",
   "metadata": {},
   "source": [
    "1 chanel to 3 chanels "
   ]
  },
  {
   "cell_type": "code",
   "execution_count": null,
   "id": "c82db350",
   "metadata": {},
   "outputs": [],
   "source": [
    "\n",
    "folders = list(filter(lambda x: '.' not in x, os.listdir('samples')))\n",
    "for folder in lost_folders:\n",
    "    b, g, r = cv2.imread('samples/'+ folder +'/BLU.tif').mean(axis=-1)/255, cv2.imread('samples/'+ folder +'/GRN.tif').mean(axis=-1)/255, cv2.imread('samples/'+ folder +'/RED.tif').mean(axis=-1)/255\n",
    "    image_merge = cv2.merge([r, g, b]) \n",
    "    plt.imshow(image_merge)\n",
    "    plt.show()\n",
    "    DATASET_FOLDER = 'samples/'+ folder + '/'\n",
    "    save_image(ToTensor()(image_merge), DATASET_FOLDER + 'rgb.tif')"
   ]
  },
  {
   "cell_type": "markdown",
   "id": "6b58e9ee",
   "metadata": {},
   "source": [
    "to np files"
   ]
  },
  {
   "cell_type": "code",
   "execution_count": 4,
   "id": "981eff07-a482-4389-9749-df9d413aebd1",
   "metadata": {},
   "outputs": [],
   "source": [
    "# 900 rt, 901 - sh, 902 - wl\n",
    "def convert_dataset(root, folders, rgb_name = 'rgb.tif', rt_name = '900.geojson', sh_name = '901.geojson', wl_name = '902.geojson', y=0, x=0):\n",
    "    for folder in folders:\n",
    "        print(folder)\n",
    "        files =  os.listdir('samples/'+folder)\n",
    "        if 'img_mask.np' not in files:  \n",
    "            rt_path = os.path.join(root, rt_name).format(folder)\n",
    "            wl_path = os.path.join(root, wl_name).format(folder)\n",
    "            sh_path = os.path.join(root, sh_name).format(folder)\n",
    "            \n",
    "            rt = FeatureCollection.read(rt_path).reproject('epsg:3857')\n",
    "            wl = FeatureCollection.read(wl_path).reproject('epsg:3857')\n",
    "            sh = FeatureCollection.read(sh_path).reproject('epsg:3857')\n",
    "        \n",
    "            cnt = markup_generation.build_contours(rt, buffer=4)\n",
    "        \n",
    "            rgb_path = os.path.join(root, rgb_name).format(folder)\n",
    "            d = markup_generation.to_numpy_dataset(rgb_path, [sh,wl,rt,cnt], force_reproject=False)\n",
    "                \n",
    "            height, width = 1024, 1024\n",
    "                \n",
    "            rgb = d[:3, y:y+height, x:x+width]\n",
    "            mask = d[3, y:y+height, x:x+width]\n",
    "        \n",
    "            plt.figure(figsize=(10, 10))\n",
    "            plt.imshow(visualization.add_mask(rgb, mask).transpose(1, 2, 0))\n",
    "            plt.show()\n",
    "            npfile_utils.save_as_array(d, root.format(folder)+'/img_mask.np')"
   ]
  },
  {
   "cell_type": "code",
   "execution_count": 16,
   "id": "9b5128b3",
   "metadata": {},
   "outputs": [
    {
     "name": "stdout",
     "output_type": "stream",
     "text": [
      "001\n",
      "002\n",
      "003\n",
      "004\n",
      "005\n",
      "006\n",
      "008\n",
      "009\n",
      "010\n",
      "011\n",
      "012\n",
      "013\n",
      "014\n",
      "015\n",
      "016\n",
      "017\n",
      "018\n",
      "019\n",
      "020\n",
      "021\n",
      "022\n",
      "023\n",
      "024\n",
      "026\n",
      "027\n",
      "028\n",
      "029\n",
      "030\n",
      "031\n",
      "033\n",
      "034\n",
      "035\n",
      "038\n",
      "039\n",
      "040\n",
      "041\n",
      "042\n",
      "043\n",
      "044\n",
      "045\n",
      "046\n",
      "048\n",
      "050\n",
      "051\n"
     ]
    }
   ],
   "source": [
    "convert_dataset('samples/{}', list(filter(lambda x: '.' not in x, os.listdir('samples'))))"
   ]
  },
  {
   "cell_type": "markdown",
   "id": "6309c3af",
   "metadata": {},
   "source": [
    "для 900.tif не работает"
   ]
  },
  {
   "cell_type": "code",
   "execution_count": 17,
   "id": "0d5ae55f",
   "metadata": {},
   "outputs": [],
   "source": [
    "# 900 rt, 901 - sh, 902 - wl\n",
    "def convert_dataset(root, folders, rgb_name = 'rgb.tif', rt_name = '900.tif', sh_name = '901.tif', wl_name = '902.tif', y=0, x=0):\n",
    "    for folder in folders:\n",
    "        print(folder)\n",
    "        files =  os.listdir('samples_fails/'+folder)\n",
    "        if 'img_mask.np' not in files:  \n",
    "            rt_path = os.path.join(root, rt_name).format(folder)\n",
    "            wl_path = os.path.join(root, wl_name).format(folder)\n",
    "            sh_path = os.path.join(root, sh_name).format(folder)\n",
    "            \n",
    "            rt = FeatureCollection.read(rt_path).reproject('epsg:3857')\n",
    "            wl = FeatureCollection.read(wl_path).reproject('epsg:3857')\n",
    "            sh = FeatureCollection.read(sh_path).reproject('epsg:3857')\n",
    "        \n",
    "            cnt = markup_generation.build_contours(rt, buffer=4)\n",
    "        \n",
    "            rgb_path = os.path.join(root, rgb_name).format(folder)\n",
    "            d = markup_generation.to_numpy_dataset(rgb_path, [sh,wl,rt,cnt], force_reproject=False)\n",
    "                \n",
    "            height, width = 1024, 1024\n",
    "                \n",
    "            rgb = d[:3, y:y+height, x:x+width]\n",
    "            mask = d[3, y:y+height, x:x+width]\n",
    "        \n",
    "            plt.figure(figsize=(10, 10))\n",
    "            plt.imshow(visualization.add_mask(rgb, mask).transpose(1, 2, 0))\n",
    "            plt.show()\n",
    "            npfile_utils.save_as_array(d, root.format(folder)+'/img_mask.np')"
   ]
  },
  {
   "cell_type": "code",
   "execution_count": null,
   "id": "afe23668-340e-4a78-8eea-ff57ed4a6f8a",
   "metadata": {},
   "outputs": [],
   "source": [
    "convert_dataset('samples_fails/{}', list(filter(lambda x: '.' not in x, os.listdir('samples_fails'))))"
   ]
  }
 ],
 "metadata": {
  "kernelspec": {
   "display_name": "venv",
   "language": "python",
   "name": "python3"
  },
  "language_info": {
   "codemirror_mode": {
    "name": "ipython",
    "version": 3
   },
   "file_extension": ".py",
   "mimetype": "text/x-python",
   "name": "python",
   "nbconvert_exporter": "python",
   "pygments_lexer": "ipython3",
   "version": "3.9.12"
  }
 },
 "nbformat": 4,
 "nbformat_minor": 5
}
